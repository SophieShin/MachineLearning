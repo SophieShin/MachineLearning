{
  "nbformat": 4,
  "nbformat_minor": 0,
  "metadata": {
    "colab": {
      "provenance": [],
      "authorship_tag": "ABX9TyPQRYq/l/1SDFgs9Sy8XZT+",
      "include_colab_link": true
    },
    "kernelspec": {
      "name": "python3",
      "display_name": "Python 3"
    },
    "language_info": {
      "name": "python"
    }
  },
  "cells": [
    {
      "cell_type": "markdown",
      "metadata": {
        "id": "view-in-github",
        "colab_type": "text"
      },
      "source": [
        "<a href=\"https://colab.research.google.com/github/SophieShin/MachineLearning/blob/main/Option_Pricing.ipynb\" target=\"_parent\"><img src=\"https://colab.research.google.com/assets/colab-badge.svg\" alt=\"Open In Colab\"/></a>"
      ]
    },
    {
      "cell_type": "code",
      "execution_count": 1,
      "metadata": {
        "id": "SrUTkDeYAC7d"
      },
      "outputs": [],
      "source": [
        "import pandas as pd\n",
        "import numpy as np"
      ]
    },
    {
      "cell_type": "code",
      "source": [
        "S = 5000\n",
        "sigma = 0.21\n",
        "r = 0.035\n",
        "K = 4800\n",
        "t = 30\n",
        "div = 0\n",
        "\n"
      ],
      "metadata": {
        "id": "h2ug6xY0tGtU"
      },
      "execution_count": 206,
      "outputs": []
    },
    {
      "cell_type": "code",
      "source": [
        "def call(S,K,r,t,div, sigma):\n",
        "  u = np.exp(sigma*np.sqrt(t/354/49))\n",
        "  d = np.exp(-sigma*np.sqrt(t/365/49))\n",
        "  p = (np.exp(r *t/365/49) - d)/(u-d)\n",
        "  q = 1-p  \n",
        "  C_t = []\n",
        "  x =  []\n",
        "  pq = []\n",
        "  for i in range(50):\n",
        "    C_i = max((S-div) * u**i * d**(49-i) -K , 0)\n",
        "    x_i = np.math.factorial(49)/(np.math.factorial(49-i)*np.math.factorial(i))\n",
        "    p_i = p**i\n",
        "    q_i = q**(49-i)\n",
        "    C_t.append(C_i)\n",
        "    x.append(x_i)\n",
        "    pq.append(p_i*q_i)\n",
        "  return sum([x*y*z for x, y,z in zip(C_t, x,pq)])*np.exp(-r*t/365)"
      ],
      "metadata": {
        "id": "PrVfZu9vMety"
      },
      "execution_count": 207,
      "outputs": []
    },
    {
      "cell_type": "code",
      "source": [
        "call(S,K,r,t,div,sigma)"
      ],
      "metadata": {
        "colab": {
          "base_uri": "https://localhost:8080/"
        },
        "id": "aoGN7vgPMmW2",
        "outputId": "6fe8e48c-3bb1-4424-8bd5-4dce9256d6e3"
      },
      "execution_count": 208,
      "outputs": [
        {
          "output_type": "execute_result",
          "data": {
            "text/plain": [
              "254.33794777872703"
            ]
          },
          "metadata": {},
          "execution_count": 208
        }
      ]
    },
    {
      "cell_type": "code",
      "source": [
        "S=5500\n",
        "call(S,K,r,t,div,sigma)"
      ],
      "metadata": {
        "colab": {
          "base_uri": "https://localhost:8080/"
        },
        "id": "yirYCNExKq6k",
        "outputId": "0ea6e902-6766-4ce7-bd29-69e40b6669ca"
      },
      "execution_count": 158,
      "outputs": [
        {
          "output_type": "execute_result",
          "data": {
            "text/plain": [
              "714.921378359241"
            ]
          },
          "metadata": {},
          "execution_count": 158
        }
      ]
    },
    {
      "cell_type": "code",
      "source": [
        "S = 5000\n",
        "sigma = 0.21\n",
        "r = 0.035\n",
        "K = 4800\n",
        "t = 30\n",
        "div = 0\n"
      ],
      "metadata": {
        "id": "YFZaSFLTM-Qu"
      },
      "execution_count": 183,
      "outputs": []
    },
    {
      "cell_type": "code",
      "source": [
        "def call(S,K,r,t,div, sigma):\n",
        "  u = np.exp(sigma*np.sqrt(t/354/49))\n",
        "  d = np.exp(-sigma*np.sqrt(t/365/49))\n",
        "  p = (np.exp(r *t/365/49) - d)/(u-d)\n",
        "  q = 1-p  \n",
        "  C_t = []\n",
        "  x =  []\n",
        "  pq = []\n",
        "  for i in range(50):\n",
        "    C_i = max((S-div) * u**i * d**(49-i) -K , 0)\n",
        "    x_i = np.math.factorial(49)/(np.math.factorial(49-i)*np.math.factorial(i))\n",
        "    p_i = p**i\n",
        "    q_i = q**(49-i)\n",
        "    C_t.append(C_i)\n",
        "    x.append(x_i)\n",
        "    pq.append(p_i*q_i)\n",
        "  return sum([x*y*z for x, y,z in zip(C_t, x,pq)])*np.exp(-r*t/365)"
      ],
      "metadata": {
        "id": "AvCo7yR5RyCb"
      },
      "execution_count": 184,
      "outputs": []
    },
    {
      "cell_type": "code",
      "source": [
        "T= [30, 60]\n",
        "DIV = [0, 0.5]\n",
        "k= [ 4800, 5000]"
      ],
      "metadata": {
        "id": "wuoi2gP8VOIJ"
      },
      "execution_count": 325,
      "outputs": []
    },
    {
      "cell_type": "code",
      "source": [
        "call_price = pd.DataFrame()\n",
        "\n",
        "for i in range(len(T)):\n",
        "  t = T[i]\n",
        "  div = DIV[i]\n",
        "  call_price_temp = []\n",
        "   \n",
        "  for i in range(len(k)):\n",
        "    K = k[i]\n",
        "    price = call(S,K,r,t,div,sigma)\n",
        "    call_price_temp.append(price)\n",
        "  call_price_temp = pd.Series(call_price_temp, index = k)  \n",
        "  call_price[t] = call_price_temp"
      ],
      "metadata": {
        "id": "GcAm7KJJcIL4"
      },
      "execution_count": 326,
      "outputs": []
    },
    {
      "cell_type": "code",
      "source": [
        "print('호가가격단위부합전 콜옵션 가격표입니다. 가로축은 잔존일수이고, 세로축은 행사가격입니다')\n",
        "call_price"
      ],
      "metadata": {
        "colab": {
          "base_uri": "https://localhost:8080/",
          "height": 130
        },
        "id": "DYNG4z0Ch6jY",
        "outputId": "6b6f871b-0575-4843-a5f4-6b8edd646472"
      },
      "execution_count": 331,
      "outputs": [
        {
          "output_type": "stream",
          "name": "stdout",
          "text": [
            "호가가격단위부합전 콜옵션 가격표입니다. 가로축은 잔존일수이고, 세로축은 행사가격입니다\n"
          ]
        },
        {
          "output_type": "execute_result",
          "data": {
            "text/plain": [
              "              30          60\n",
              "4800  254.337948  305.151252\n",
              "5000  128.586707  185.693259"
            ],
            "text/html": [
              "\n",
              "  <div id=\"df-bc1d0fcc-d4f6-4741-a9ce-d21a9a050ac6\">\n",
              "    <div class=\"colab-df-container\">\n",
              "      <div>\n",
              "<style scoped>\n",
              "    .dataframe tbody tr th:only-of-type {\n",
              "        vertical-align: middle;\n",
              "    }\n",
              "\n",
              "    .dataframe tbody tr th {\n",
              "        vertical-align: top;\n",
              "    }\n",
              "\n",
              "    .dataframe thead th {\n",
              "        text-align: right;\n",
              "    }\n",
              "</style>\n",
              "<table border=\"1\" class=\"dataframe\">\n",
              "  <thead>\n",
              "    <tr style=\"text-align: right;\">\n",
              "      <th></th>\n",
              "      <th>30</th>\n",
              "      <th>60</th>\n",
              "    </tr>\n",
              "  </thead>\n",
              "  <tbody>\n",
              "    <tr>\n",
              "      <th>4800</th>\n",
              "      <td>254.337948</td>\n",
              "      <td>305.151252</td>\n",
              "    </tr>\n",
              "    <tr>\n",
              "      <th>5000</th>\n",
              "      <td>128.586707</td>\n",
              "      <td>185.693259</td>\n",
              "    </tr>\n",
              "  </tbody>\n",
              "</table>\n",
              "</div>\n",
              "      <button class=\"colab-df-convert\" onclick=\"convertToInteractive('df-bc1d0fcc-d4f6-4741-a9ce-d21a9a050ac6')\"\n",
              "              title=\"Convert this dataframe to an interactive table.\"\n",
              "              style=\"display:none;\">\n",
              "        \n",
              "  <svg xmlns=\"http://www.w3.org/2000/svg\" height=\"24px\"viewBox=\"0 0 24 24\"\n",
              "       width=\"24px\">\n",
              "    <path d=\"M0 0h24v24H0V0z\" fill=\"none\"/>\n",
              "    <path d=\"M18.56 5.44l.94 2.06.94-2.06 2.06-.94-2.06-.94-.94-2.06-.94 2.06-2.06.94zm-11 1L8.5 8.5l.94-2.06 2.06-.94-2.06-.94L8.5 2.5l-.94 2.06-2.06.94zm10 10l.94 2.06.94-2.06 2.06-.94-2.06-.94-.94-2.06-.94 2.06-2.06.94z\"/><path d=\"M17.41 7.96l-1.37-1.37c-.4-.4-.92-.59-1.43-.59-.52 0-1.04.2-1.43.59L10.3 9.45l-7.72 7.72c-.78.78-.78 2.05 0 2.83L4 21.41c.39.39.9.59 1.41.59.51 0 1.02-.2 1.41-.59l7.78-7.78 2.81-2.81c.8-.78.8-2.07 0-2.86zM5.41 20L4 18.59l7.72-7.72 1.47 1.35L5.41 20z\"/>\n",
              "  </svg>\n",
              "      </button>\n",
              "      \n",
              "  <style>\n",
              "    .colab-df-container {\n",
              "      display:flex;\n",
              "      flex-wrap:wrap;\n",
              "      gap: 12px;\n",
              "    }\n",
              "\n",
              "    .colab-df-convert {\n",
              "      background-color: #E8F0FE;\n",
              "      border: none;\n",
              "      border-radius: 50%;\n",
              "      cursor: pointer;\n",
              "      display: none;\n",
              "      fill: #1967D2;\n",
              "      height: 32px;\n",
              "      padding: 0 0 0 0;\n",
              "      width: 32px;\n",
              "    }\n",
              "\n",
              "    .colab-df-convert:hover {\n",
              "      background-color: #E2EBFA;\n",
              "      box-shadow: 0px 1px 2px rgba(60, 64, 67, 0.3), 0px 1px 3px 1px rgba(60, 64, 67, 0.15);\n",
              "      fill: #174EA6;\n",
              "    }\n",
              "\n",
              "    [theme=dark] .colab-df-convert {\n",
              "      background-color: #3B4455;\n",
              "      fill: #D2E3FC;\n",
              "    }\n",
              "\n",
              "    [theme=dark] .colab-df-convert:hover {\n",
              "      background-color: #434B5C;\n",
              "      box-shadow: 0px 1px 3px 1px rgba(0, 0, 0, 0.15);\n",
              "      filter: drop-shadow(0px 1px 2px rgba(0, 0, 0, 0.3));\n",
              "      fill: #FFFFFF;\n",
              "    }\n",
              "  </style>\n",
              "\n",
              "      <script>\n",
              "        const buttonEl =\n",
              "          document.querySelector('#df-bc1d0fcc-d4f6-4741-a9ce-d21a9a050ac6 button.colab-df-convert');\n",
              "        buttonEl.style.display =\n",
              "          google.colab.kernel.accessAllowed ? 'block' : 'none';\n",
              "\n",
              "        async function convertToInteractive(key) {\n",
              "          const element = document.querySelector('#df-bc1d0fcc-d4f6-4741-a9ce-d21a9a050ac6');\n",
              "          const dataTable =\n",
              "            await google.colab.kernel.invokeFunction('convertToInteractive',\n",
              "                                                     [key], {});\n",
              "          if (!dataTable) return;\n",
              "\n",
              "          const docLinkHtml = 'Like what you see? Visit the ' +\n",
              "            '<a target=\"_blank\" href=https://colab.research.google.com/notebooks/data_table.ipynb>data table notebook</a>'\n",
              "            + ' to learn more about interactive tables.';\n",
              "          element.innerHTML = '';\n",
              "          dataTable['output_type'] = 'display_data';\n",
              "          await google.colab.output.renderOutput(dataTable, element);\n",
              "          const docLink = document.createElement('div');\n",
              "          docLink.innerHTML = docLinkHtml;\n",
              "          element.appendChild(docLink);\n",
              "        }\n",
              "      </script>\n",
              "    </div>\n",
              "  </div>\n",
              "  "
            ]
          },
          "metadata": {},
          "execution_count": 331
        }
      ]
    },
    {
      "cell_type": "code",
      "source": [],
      "metadata": {
        "id": "yyOrHU-RjCEr"
      },
      "execution_count": null,
      "outputs": []
    }
  ]
}